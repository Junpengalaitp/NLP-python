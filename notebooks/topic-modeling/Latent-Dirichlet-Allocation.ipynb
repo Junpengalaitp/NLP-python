{
 "cells": [
  {
   "cell_type": "code",
   "execution_count": 1,
   "metadata": {
    "collapsed": true,
    "pycharm": {
     "is_executing": false
    }
   },
   "outputs": [],
   "source": [
    "import pandas as pd"
   ]
  },
  {
   "cell_type": "code",
   "execution_count": 2,
   "outputs": [],
   "source": [
    "npr = pd.read_csv('npr.csv')"
   ],
   "metadata": {
    "collapsed": false,
    "pycharm": {
     "name": "#%%\n",
     "is_executing": false
    }
   }
  },
  {
   "cell_type": "code",
   "execution_count": 3,
   "outputs": [
    {
     "data": {
      "text/plain": "                                             Article\n0  In the Washington of 2016, even when the polic...\n1    Donald Trump has used Twitter  —   his prefe...\n2    Donald Trump is unabashedly praising Russian...\n3  Updated at 2:50 p. m. ET, Russian President Vl...\n4  From photography, illustration and video, to d...",
      "text/html": "<div>\n<style scoped>\n    .dataframe tbody tr th:only-of-type {\n        vertical-align: middle;\n    }\n\n    .dataframe tbody tr th {\n        vertical-align: top;\n    }\n\n    .dataframe thead th {\n        text-align: right;\n    }\n</style>\n<table border=\"1\" class=\"dataframe\">\n  <thead>\n    <tr style=\"text-align: right;\">\n      <th></th>\n      <th>Article</th>\n    </tr>\n  </thead>\n  <tbody>\n    <tr>\n      <th>0</th>\n      <td>In the Washington of 2016, even when the polic...</td>\n    </tr>\n    <tr>\n      <th>1</th>\n      <td>Donald Trump has used Twitter  —   his prefe...</td>\n    </tr>\n    <tr>\n      <th>2</th>\n      <td>Donald Trump is unabashedly praising Russian...</td>\n    </tr>\n    <tr>\n      <th>3</th>\n      <td>Updated at 2:50 p. m. ET, Russian President Vl...</td>\n    </tr>\n    <tr>\n      <th>4</th>\n      <td>From photography, illustration and video, to d...</td>\n    </tr>\n  </tbody>\n</table>\n</div>"
     },
     "metadata": {},
     "output_type": "execute_result",
     "execution_count": 3
    }
   ],
   "source": [
    "npr.head()"
   ],
   "metadata": {
    "collapsed": false,
    "pycharm": {
     "name": "#%%\n",
     "is_executing": false
    }
   }
  },
  {
   "cell_type": "code",
   "execution_count": 6,
   "outputs": [],
   "source": [
    "from sklearn.feature_extraction.text import CountVectorizer"
   ],
   "metadata": {
    "collapsed": false,
    "pycharm": {
     "name": "#%%\n",
     "is_executing": false
    }
   }
  },
  {
   "cell_type": "code",
   "execution_count": 7,
   "outputs": [],
   "source": [
    "cv = CountVectorizer(max_df=0.9, min_df=2, stop_words='english')"
   ],
   "metadata": {
    "collapsed": false,
    "pycharm": {
     "name": "#%%\n",
     "is_executing": false
    }
   }
  },
  {
   "cell_type": "code",
   "execution_count": 8,
   "outputs": [],
   "source": [
    "dtm = cv.fit_transform(npr['Article'])"
   ],
   "metadata": {
    "collapsed": false,
    "pycharm": {
     "name": "#%%\n",
     "is_executing": false
    }
   }
  },
  {
   "cell_type": "code",
   "execution_count": 9,
   "outputs": [
    {
     "data": {
      "text/plain": "<11992x54777 sparse matrix of type '<class 'numpy.int64'>'\n\twith 3033388 stored elements in Compressed Sparse Row format>"
     },
     "metadata": {},
     "output_type": "execute_result",
     "execution_count": 9
    }
   ],
   "source": [
    "dtm"
   ],
   "metadata": {
    "collapsed": false,
    "pycharm": {
     "name": "#%%\n",
     "is_executing": false
    }
   }
  },
  {
   "cell_type": "code",
   "execution_count": 10,
   "outputs": [],
   "source": [
    "from sklearn.decomposition import LatentDirichletAllocation"
   ],
   "metadata": {
    "collapsed": false,
    "pycharm": {
     "name": "#%%\n",
     "is_executing": false
    }
   }
  },
  {
   "cell_type": "code",
   "execution_count": 11,
   "outputs": [],
   "source": [
    "LDA = LatentDirichletAllocation(n_components=7, random_state=42)"
   ],
   "metadata": {
    "collapsed": false,
    "pycharm": {
     "name": "#%%\n",
     "is_executing": false
    }
   }
  },
  {
   "cell_type": "code",
   "execution_count": 12,
   "outputs": [
    {
     "data": {
      "text/plain": "LatentDirichletAllocation(batch_size=128, doc_topic_prior=None,\n             evaluate_every=-1, learning_decay=0.7,\n             learning_method='batch', learning_offset=10.0,\n             max_doc_update_iter=100, max_iter=10, mean_change_tol=0.001,\n             n_components=7, n_jobs=None, n_topics=None, perp_tol=0.1,\n             random_state=42, topic_word_prior=None,\n             total_samples=1000000.0, verbose=0)"
     },
     "metadata": {},
     "output_type": "execute_result",
     "execution_count": 12
    }
   ],
   "source": [
    "LDA.fit(dtm)"
   ],
   "metadata": {
    "collapsed": false,
    "pycharm": {
     "name": "#%%\n",
     "is_executing": false
    }
   }
  },
  {
   "cell_type": "code",
   "execution_count": 28,
   "outputs": [
    {
     "data": {
      "text/plain": "'kiyoshi'"
     },
     "metadata": {},
     "output_type": "execute_result",
     "execution_count": 28
    }
   ],
   "source": [
    "# Grab the vocabulary of words\n",
    "import random\n",
    "random_word_id = random.randint(0, 54776)\n",
    "cv.get_feature_names()[random_word_id]"
   ],
   "metadata": {
    "collapsed": false,
    "pycharm": {
     "name": "#%%\n",
     "is_executing": false
    }
   }
  },
  {
   "cell_type": "code",
   "execution_count": 30,
   "outputs": [
    {
     "data": {
      "text/plain": "array([ 2475, 18302, 35285, ..., 22673, 42561, 42993], dtype=int64)"
     },
     "metadata": {},
     "output_type": "execute_result",
     "execution_count": 30
    }
   ],
   "source": [
    "# Grab the topics\n",
    "signal_topic = LDA.components_[0]\n",
    "signal_topic.argsort()"
   ],
   "metadata": {
    "collapsed": false,
    "pycharm": {
     "name": "#%%\n",
     "is_executing": false
    }
   }
  },
  {
   "cell_type": "code",
   "execution_count": 34,
   "outputs": [
    {
     "data": {
      "text/plain": "array([33390, 36310, 21228, 10425, 31464,  8149, 36283, 22673, 42561,\n       42993], dtype=int64)"
     },
     "metadata": {},
     "output_type": "execute_result",
     "execution_count": 34
    }
   ],
   "source": [
    "signal_topic.argsort()[-10:]"
   ],
   "metadata": {
    "collapsed": false,
    "pycharm": {
     "name": "#%%\n",
     "is_executing": false
    }
   }
  },
  {
   "cell_type": "code",
   "execution_count": 39,
   "outputs": [],
   "source": [
    "top_20_words = signal_topic.argsort()[-20:]"
   ],
   "metadata": {
    "collapsed": false,
    "pycharm": {
     "name": "#%%\n",
     "is_executing": false
    }
   }
  },
  {
   "cell_type": "code",
   "execution_count": 40,
   "outputs": [
    {
     "name": "stdout",
     "text": [
      "president\nstate",
      "\ntax\ninsurance",
      "\ntrump\n",
      "companies\nmoney\nyear\n",
      "federal\n",
      "000\nnew\n",
      "percent\n",
      "government\ncompany\nmillion\ncare\npeople\n",
      "health\nsaid\n",
      "says\n"
     ],
     "output_type": "stream"
    }
   ],
   "source": [
    "for i in top_20_words:\n",
    "    print(cv.get_feature_names()[i])"
   ],
   "metadata": {
    "collapsed": false,
    "pycharm": {
     "name": "#%%\n",
     "is_executing": false
    }
   }
  },
  {
   "cell_type": "code",
   "execution_count": 41,
   "outputs": [
    {
     "name": "stdout",
     "text": [
      "The top 15 words for topic 0\n",
      "['companies', 'money', 'year', 'federal', '000', 'new', 'percent', 'government', 'company', 'million', 'care', 'people', 'health', 'said', 'says']\n\n\n\n\nThe top 15 words for topic 1\n",
      "['military', 'house', 'security', 'russia', 'government', 'npr', 'reports', 'says', 'news', 'people', 'told', 'police', 'president', 'trump', 'said']\n\n\n\n\nThe top 15 words for topic 2\n",
      "['way', 'world', 'family', 'home', 'day', 'time', 'water', 'city', 'new', 'years', 'food', 'just', 'people', 'like', 'says']\n\n\n\n\nThe top 15 words for topic 3\n",
      "['time', 'new', 'don', 'years', 'medical', 'disease', 'patients', 'just', 'children', 'study', 'like', 'women', 'health', 'people', 'says']\n\n\n\n\nThe top 15 words for topic 4\n",
      "['voters', 'vote', 'election', 'party', 'new', 'obama', 'court', 'republican', 'campaign', 'people', 'state', 'president', 'clinton', 'said', 'trump']\n\n\n\n\nThe top 15 words for topic 5\n",
      "['years', 'going', 've', 'life', 'don', 'new', 'way', 'music', 'really', 'time', 'know', 'think', 'people', 'just', 'like']\n\n\n\n\nThe top 15 words for topic 6\n",
      "['student', 'years', 'data', 'science', 'university', 'people', 'time', 'schools', 'just', 'education', 'new', 'like', 'students', 'school', 'says']\n\n\n\n\n"
     ],
     "output_type": "stream"
    }
   ],
   "source": [
    "for index, topic in enumerate(LDA.components_):\n",
    "    print(f\"The top 15 words for topic {index}\")\n",
    "    print([cv.get_feature_names()[index] for index in topic.argsort()[-15:]])\n",
    "    print('\\n')\n",
    "    print('\\n')"
   ],
   "metadata": {
    "collapsed": false,
    "pycharm": {
     "name": "#%%\n",
     "is_executing": false
    }
   }
  },
  {
   "cell_type": "code",
   "execution_count": 42,
   "outputs": [
    {
     "data": {
      "text/plain": "<11992x54777 sparse matrix of type '<class 'numpy.int64'>'\n\twith 3033388 stored elements in Compressed Sparse Row format>"
     },
     "metadata": {},
     "output_type": "execute_result",
     "execution_count": 42
    }
   ],
   "source": [
    "dtm"
   ],
   "metadata": {
    "collapsed": false,
    "pycharm": {
     "name": "#%%\n",
     "is_executing": false
    }
   }
  },
  {
   "cell_type": "code",
   "execution_count": 43,
   "outputs": [
    {
     "data": {
      "text/plain": "                                                 Article\n0      In the Washington of 2016, even when the polic...\n1        Donald Trump has used Twitter  —   his prefe...\n2        Donald Trump is unabashedly praising Russian...\n3      Updated at 2:50 p. m. ET, Russian President Vl...\n4      From photography, illustration and video, to d...\n5      I did not want to join yoga class. I hated tho...\n6      With a   who has publicly supported the debunk...\n7      I was standing by the airport exit, debating w...\n8      If movies were trying to be more realistic, pe...\n9      Eighteen years ago, on New Year’s Eve, David F...\n10     For years now, some of the best, wildest, most...\n11     For years now, some of the best, wildest, most...\n12     The Colorado River is like a giant bank accoun...\n13     For the last installment of NPR’s holiday reci...\n14     Being overweight can raise your blood pressure...\n15     Who’s the YouTube star of 2016? Adele singing ...\n16     Here’s a quick roundup of some of the   you ma...\n17     Ben Johnston doesn’t follow the rules of music...\n18     David Bowie, Prince and George Michael are all...\n19     In November, the typically straitlaced Office ...\n20     This is the time of year when everybody is mak...\n21     Terrorist attacks, hurricanes, a divisive U. S...\n22     We all experience stress at work, no matter th...\n23     When John Fahey recorded The New Possibility i...\n24     This year was one of   hacks, exploding smartp...\n25     From West Virginia to Wyoming, coal country ov...\n26     Updated Jan. 1 at 9:56 a. m. ET, At least 39 p...\n27     On the morning of Jan. 1, Los Angeles resident...\n28     In September, reproductive endocrinologist Joh...\n29     In an effort to take advantage of the intimate...\n...                                                  ...\n11962  Updated at 6:15 p. m. The White House has anno...\n11963  The actress Debbie Reynolds’ death just one da...\n11964  Here’s a timely reminder for all you   reveler...\n11965  Every year in late November, the New Mexican v...\n11966  Time to get together the transcripts and the t...\n11967  Hollywood is in the process of closing out a  ...\n11968  Dealing with a flood of   pardon requests amou...\n11969  Rashaan Salaam, the former college football st...\n11970  On the top of Hawaii’s Mauna Kea mountain Thur...\n11971  A tiny pink peanut is not a white rhinoceros. ...\n11972  In a disappointment to Alzheimer’s patients an...\n11973  In my early 20s, smitten by the mythic underpi...\n11974  It’s been a lively year for social media maven...\n11975  This is not a review. It started out as one: I...\n11976  On a summer’s day in December, a warehouse in ...\n11977  Elections aren’t exactly cozy, even in the bes...\n11978  Although her oldest child, Ben, is 10 years ol...\n11979  When a political scandal explodes in France, t...\n11980  The darkest moment for American police this ye...\n11981  Russia was ordered to vacate two compounds it ...\n11982  A North Carolina judge is temporarily blocking...\n11983  China’s police are under fire this week as cit...\n11984  Before the virus overwhelmed Puerto Rico, Zika...\n11985  It seems everything today has a flavor wheel, ...\n11986  In the final days of a year that has become kn...\n11987  The number of law enforcement officers shot an...\n11988    Trump is busy these days with victory tours,...\n11989  It’s always interesting for the Goats and Soda...\n11990  The election of Donald Trump was a surprise to...\n11991  Voters in the English city of Sunderland did s...\n\n[11992 rows x 1 columns]",
      "text/html": "<div>\n<style scoped>\n    .dataframe tbody tr th:only-of-type {\n        vertical-align: middle;\n    }\n\n    .dataframe tbody tr th {\n        vertical-align: top;\n    }\n\n    .dataframe thead th {\n        text-align: right;\n    }\n</style>\n<table border=\"1\" class=\"dataframe\">\n  <thead>\n    <tr style=\"text-align: right;\">\n      <th></th>\n      <th>Article</th>\n    </tr>\n  </thead>\n  <tbody>\n    <tr>\n      <th>0</th>\n      <td>In the Washington of 2016, even when the polic...</td>\n    </tr>\n    <tr>\n      <th>1</th>\n      <td>Donald Trump has used Twitter  —   his prefe...</td>\n    </tr>\n    <tr>\n      <th>2</th>\n      <td>Donald Trump is unabashedly praising Russian...</td>\n    </tr>\n    <tr>\n      <th>3</th>\n      <td>Updated at 2:50 p. m. ET, Russian President Vl...</td>\n    </tr>\n    <tr>\n      <th>4</th>\n      <td>From photography, illustration and video, to d...</td>\n    </tr>\n    <tr>\n      <th>5</th>\n      <td>I did not want to join yoga class. I hated tho...</td>\n    </tr>\n    <tr>\n      <th>6</th>\n      <td>With a   who has publicly supported the debunk...</td>\n    </tr>\n    <tr>\n      <th>7</th>\n      <td>I was standing by the airport exit, debating w...</td>\n    </tr>\n    <tr>\n      <th>8</th>\n      <td>If movies were trying to be more realistic, pe...</td>\n    </tr>\n    <tr>\n      <th>9</th>\n      <td>Eighteen years ago, on New Year’s Eve, David F...</td>\n    </tr>\n    <tr>\n      <th>10</th>\n      <td>For years now, some of the best, wildest, most...</td>\n    </tr>\n    <tr>\n      <th>11</th>\n      <td>For years now, some of the best, wildest, most...</td>\n    </tr>\n    <tr>\n      <th>12</th>\n      <td>The Colorado River is like a giant bank accoun...</td>\n    </tr>\n    <tr>\n      <th>13</th>\n      <td>For the last installment of NPR’s holiday reci...</td>\n    </tr>\n    <tr>\n      <th>14</th>\n      <td>Being overweight can raise your blood pressure...</td>\n    </tr>\n    <tr>\n      <th>15</th>\n      <td>Who’s the YouTube star of 2016? Adele singing ...</td>\n    </tr>\n    <tr>\n      <th>16</th>\n      <td>Here’s a quick roundup of some of the   you ma...</td>\n    </tr>\n    <tr>\n      <th>17</th>\n      <td>Ben Johnston doesn’t follow the rules of music...</td>\n    </tr>\n    <tr>\n      <th>18</th>\n      <td>David Bowie, Prince and George Michael are all...</td>\n    </tr>\n    <tr>\n      <th>19</th>\n      <td>In November, the typically straitlaced Office ...</td>\n    </tr>\n    <tr>\n      <th>20</th>\n      <td>This is the time of year when everybody is mak...</td>\n    </tr>\n    <tr>\n      <th>21</th>\n      <td>Terrorist attacks, hurricanes, a divisive U. S...</td>\n    </tr>\n    <tr>\n      <th>22</th>\n      <td>We all experience stress at work, no matter th...</td>\n    </tr>\n    <tr>\n      <th>23</th>\n      <td>When John Fahey recorded The New Possibility i...</td>\n    </tr>\n    <tr>\n      <th>24</th>\n      <td>This year was one of   hacks, exploding smartp...</td>\n    </tr>\n    <tr>\n      <th>25</th>\n      <td>From West Virginia to Wyoming, coal country ov...</td>\n    </tr>\n    <tr>\n      <th>26</th>\n      <td>Updated Jan. 1 at 9:56 a. m. ET, At least 39 p...</td>\n    </tr>\n    <tr>\n      <th>27</th>\n      <td>On the morning of Jan. 1, Los Angeles resident...</td>\n    </tr>\n    <tr>\n      <th>28</th>\n      <td>In September, reproductive endocrinologist Joh...</td>\n    </tr>\n    <tr>\n      <th>29</th>\n      <td>In an effort to take advantage of the intimate...</td>\n    </tr>\n    <tr>\n      <th>...</th>\n      <td>...</td>\n    </tr>\n    <tr>\n      <th>11962</th>\n      <td>Updated at 6:15 p. m. The White House has anno...</td>\n    </tr>\n    <tr>\n      <th>11963</th>\n      <td>The actress Debbie Reynolds’ death just one da...</td>\n    </tr>\n    <tr>\n      <th>11964</th>\n      <td>Here’s a timely reminder for all you   reveler...</td>\n    </tr>\n    <tr>\n      <th>11965</th>\n      <td>Every year in late November, the New Mexican v...</td>\n    </tr>\n    <tr>\n      <th>11966</th>\n      <td>Time to get together the transcripts and the t...</td>\n    </tr>\n    <tr>\n      <th>11967</th>\n      <td>Hollywood is in the process of closing out a  ...</td>\n    </tr>\n    <tr>\n      <th>11968</th>\n      <td>Dealing with a flood of   pardon requests amou...</td>\n    </tr>\n    <tr>\n      <th>11969</th>\n      <td>Rashaan Salaam, the former college football st...</td>\n    </tr>\n    <tr>\n      <th>11970</th>\n      <td>On the top of Hawaii’s Mauna Kea mountain Thur...</td>\n    </tr>\n    <tr>\n      <th>11971</th>\n      <td>A tiny pink peanut is not a white rhinoceros. ...</td>\n    </tr>\n    <tr>\n      <th>11972</th>\n      <td>In a disappointment to Alzheimer’s patients an...</td>\n    </tr>\n    <tr>\n      <th>11973</th>\n      <td>In my early 20s, smitten by the mythic underpi...</td>\n    </tr>\n    <tr>\n      <th>11974</th>\n      <td>It’s been a lively year for social media maven...</td>\n    </tr>\n    <tr>\n      <th>11975</th>\n      <td>This is not a review. It started out as one: I...</td>\n    </tr>\n    <tr>\n      <th>11976</th>\n      <td>On a summer’s day in December, a warehouse in ...</td>\n    </tr>\n    <tr>\n      <th>11977</th>\n      <td>Elections aren’t exactly cozy, even in the bes...</td>\n    </tr>\n    <tr>\n      <th>11978</th>\n      <td>Although her oldest child, Ben, is 10 years ol...</td>\n    </tr>\n    <tr>\n      <th>11979</th>\n      <td>When a political scandal explodes in France, t...</td>\n    </tr>\n    <tr>\n      <th>11980</th>\n      <td>The darkest moment for American police this ye...</td>\n    </tr>\n    <tr>\n      <th>11981</th>\n      <td>Russia was ordered to vacate two compounds it ...</td>\n    </tr>\n    <tr>\n      <th>11982</th>\n      <td>A North Carolina judge is temporarily blocking...</td>\n    </tr>\n    <tr>\n      <th>11983</th>\n      <td>China’s police are under fire this week as cit...</td>\n    </tr>\n    <tr>\n      <th>11984</th>\n      <td>Before the virus overwhelmed Puerto Rico, Zika...</td>\n    </tr>\n    <tr>\n      <th>11985</th>\n      <td>It seems everything today has a flavor wheel, ...</td>\n    </tr>\n    <tr>\n      <th>11986</th>\n      <td>In the final days of a year that has become kn...</td>\n    </tr>\n    <tr>\n      <th>11987</th>\n      <td>The number of law enforcement officers shot an...</td>\n    </tr>\n    <tr>\n      <th>11988</th>\n      <td>Trump is busy these days with victory tours,...</td>\n    </tr>\n    <tr>\n      <th>11989</th>\n      <td>It’s always interesting for the Goats and Soda...</td>\n    </tr>\n    <tr>\n      <th>11990</th>\n      <td>The election of Donald Trump was a surprise to...</td>\n    </tr>\n    <tr>\n      <th>11991</th>\n      <td>Voters in the English city of Sunderland did s...</td>\n    </tr>\n  </tbody>\n</table>\n<p>11992 rows × 1 columns</p>\n</div>"
     },
     "metadata": {},
     "output_type": "execute_result",
     "execution_count": 43
    }
   ],
   "source": [
    "npr"
   ],
   "metadata": {
    "collapsed": false,
    "pycharm": {
     "name": "#%%\n",
     "is_executing": false
    }
   }
  },
  {
   "cell_type": "code",
   "execution_count": 44,
   "outputs": [],
   "source": [
    "topic_result = LDA.transform(dtm)"
   ],
   "metadata": {
    "collapsed": false,
    "pycharm": {
     "name": "#%%\n",
     "is_executing": false
    }
   }
  },
  {
   "cell_type": "code",
   "execution_count": 45,
   "outputs": [
    {
     "data": {
      "text/plain": "(11992, 7)"
     },
     "metadata": {},
     "output_type": "execute_result",
     "execution_count": 45
    }
   ],
   "source": [
    "topic_result.shape"
   ],
   "metadata": {
    "collapsed": false,
    "pycharm": {
     "name": "#%%\n",
     "is_executing": false
    }
   }
  },
  {
   "cell_type": "code",
   "execution_count": 46,
   "outputs": [
    {
     "data": {
      "text/plain": "'In the Washington of 2016, even when the policy can be bipartisan, the politics cannot. And in that sense, this year shows little sign of ending on Dec. 31. When President Obama moved to sanction Russia over its alleged interference in the U. S. election just concluded, some Republicans who had long called for similar or more severe measures could scarcely bring themselves to approve. House Speaker Paul Ryan called the Obama measures ”appropriate” but also ”overdue” and ”a prime example of this administration’s ineffective foreign policy that has left America weaker in the eyes of the world.” Other GOP leaders sounded much the same theme. ”[We have] been urging President Obama for years to take strong action to deter Russia’s worldwide aggression, including its   operations,” wrote Rep. Devin Nunes,  . chairman of the House Intelligence Committee. ”Now with just a few weeks left in office, the president has suddenly decided that some stronger measures are indeed warranted.” Appearing on CNN, frequent Obama critic Trent Franks,  . called for ”much tougher” actions and said three times that Obama had ”finally found his tongue.” Meanwhile, at    and on Fox News, various spokesmen for   Trump said Obama’s real target was not the Russians at all but the man poised to take over the White House in less than three weeks. They spoke of Obama trying to ”tie Trump’s hands” or ”box him in,” meaning the   would be forced either to keep the sanctions or be at odds with Republicans who want to be tougher still on Moscow. Throughout 2016, Trump has repeatedly called not for sanctions but for closer ties with Russia, including cooperation in the fight against ISIS. Russia has battled ISIS in Syria on behalf of that country’s embattled dictator, Bashar Assad, bombing the besieged   city of Aleppo that fell to Assad’s forces this week. During the campaign, Trump even urged Russia to ”find” missing emails from the private server of his opponent, Hillary Clinton. He has exchanged public encomiums with Russian President Vladimir Putin on several occasions and added his doubts about the current U. S. levels of support for NATO  —   Putin’s longtime nemesis. There have also been suggestions that Trump’s extensive business dealings with various Russians are the reason he refuses to release his tax returns. All those issues have been disquieting to some Republicans for many months. Sens. John McCain,  . and Lindsay Graham,  . C. prominent senior members of the Armed Services Committee, have accepted the assessment of 17 U. S. intelligence agencies regarding the role of Russia in the hacking of various Democratic committees last year. That includes the FBI and CIA consensus that the Russian goal was not just to discredit American democracy but to defeat Clinton and elect Trump. They say the great majority of their Senate colleagues agree with them, and McCain has slated an Armed Services hearing on cyberthreats for Jan. 5. But the politicizing of the Russian actions  —   the idea that they helped Trump win  —   has also made the issue difficult for Republican leaders. It has allowed Trump supporters to push back on the intelligence agencies and say the entire issue is designed to undermine Trump’s legitimacy. Senate Majority Leader Mitch McConnell has so far resisted calls for a select committee to look into the Russian interference in the 2016 campaign. He has said it is enough for Sen. Richard Burr,  . C. to look into it as chairman of the Senate Intelligence Committee. Typically, Republican leaders and spokesmen say there is no evidence that the actual voting or tallying on Nov. 8 was compromised, and that is true. But it is also a red herring, as interference in those functions has not been alleged and is not the focus of the U. S. intelligence agencies’ concern. For his part, Trump has shown little interest in delving into what happened. He has cast doubt on the U. S. intelligence reports to date and suggested ”no one really knows what happened.” He also has suggested that computers make it very difficult to know who is using them. This week, Trump said it was time to ”get on with our lives and do more important things.” However, at week’s end he did agree to have an intelligence briefing on the subject next week. The   has not wanted the daily intelligence briefings available to him in recent weeks, preferring that they be given to the men he has chosen as his vice president (Mike Pence) and national security adviser (Mike Flynn) with Trump taking them only occasionally. The irony of this controversy arising at the eleventh hour of the Obama presidency can scarcely be overstated, and it defines the dilemma facing both the outgoing president and the incoming party in control. Obama appears to have been reluctant to retaliate against the Russian hacking before the election for fear of seeming to interfere with the election himself. The Republicans, meanwhile, have for years called for greater confrontation with the Russians, with Obama usually resisting. Obama did join with NATO in punishing the Russians with economic sanctions over the annexation of Crimea. Those sanctions may have been painful, coming as they did alongside falling prices for oil  —   the commodity that keeps the Russian economy afloat. On other occasions, despite Russian provocations through surrogates in Syria and elsewhere, Obama did not make overt moves to force Russia’s hand. That includes occasions when Russia was believed to be hacking critical computer systems in neighboring Ukraine, Estonia and Poland. But this week, following a chorus of confirmation from the U. S. intelligence community regarding the Russian role in computer hacking in the political campaign, Obama acted. He imposed a set of mostly diplomatic actions such as sanctioning some Russian officials, closing two diplomatic compounds and expelling 35 Russian diplomats. There may have been more damaging measures taken covertly, and some Russophobes in Washington held out hope for that. But the visible portion of the program scarcely amounted to major retribution. And Putin saw fit to diminish the Obama sanctions further by declining to respond. Although his government has steadfastly denied any interference in the U. S. election, Putin rejected his own foreign minister’s recommended package of    responses. (He even sent an invitation for U. S. diplomats to send their children to a holiday party in Moscow.) That allowed Putin to appear for the moment to be ”the bigger man,” even as he spurned Obama and kept up what has looked like a public bromance with Trump, who tweeted: ”Great move on delay (by V. Putin)   I always knew he was very smart!” At the moment it may seem that the overall Russia question amounts to the first crisis facing the Trump presidency. Whether forced by this campaign interference issue or not, Trump must grasp the nettle of a relationship Mitt Romney once called the greatest threat to U. S. security in the world. To be sure, Trump needs to dispel doubts about his ability to stand up to Putin, who has bullied and cajoled his way to center stage in recent world affairs. But Trump also seems determined to turn the page on past U. S. commitments, from free trade philosophy to funding of NATO and the United Nations. And if his Twitter account is any guide, Trump shows little concern about the conundrum others perceive to be facing him. Above all, Trump has shown himself determined to play by his own rules. A year ago, many were confident that would not work for him in the world of presidential politics. We are about to find out whether it works for him in the Oval Office.'"
     },
     "metadata": {},
     "output_type": "execute_result",
     "execution_count": 46
    }
   ],
   "source": [
    "npr['Article'][0]"
   ],
   "metadata": {
    "collapsed": false,
    "pycharm": {
     "name": "#%%\n",
     "is_executing": false
    }
   }
  },
  {
   "cell_type": "code",
   "execution_count": 47,
   "outputs": [],
   "source": [
    "npr['Topic'] = topic_result.argmax(axis=1)"
   ],
   "metadata": {
    "collapsed": false,
    "pycharm": {
     "name": "#%%\n",
     "is_executing": false
    }
   }
  },
  {
   "cell_type": "code",
   "execution_count": null,
   "outputs": [],
   "source": [
    "\n"
   ],
   "metadata": {
    "collapsed": false,
    "pycharm": {
     "name": "#%%\n"
    }
   }
  }
 ],
 "metadata": {
  "language_info": {
   "codemirror_mode": {
    "name": "ipython",
    "version": 2
   },
   "file_extension": ".py",
   "mimetype": "text/x-python",
   "name": "python",
   "nbconvert_exporter": "python",
   "pygments_lexer": "ipython2",
   "version": "2.7.6"
  },
  "kernelspec": {
   "name": "python3",
   "language": "python",
   "display_name": "Python 3"
  },
  "pycharm": {
   "stem_cell": {
    "cell_type": "raw",
    "source": [],
    "metadata": {
     "collapsed": false
    }
   }
  }
 },
 "nbformat": 4,
 "nbformat_minor": 0
}