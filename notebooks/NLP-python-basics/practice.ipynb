{
 "cells": [
  {
   "cell_type": "code",
   "execution_count": 1,
   "metadata": {
    "collapsed": true,
    "pycharm": {
     "is_executing": false
    }
   },
   "outputs": [],
   "source": [
    "import spacy\n",
    "nlp = spacy.load('en_core_web_sm')"
   ]
  },
  {
   "cell_type": "code",
   "execution_count": 5,
   "outputs": [],
   "source": [
    "with open('C:\\\\Users\\\\pats\\\\Documents\\\\training\\\\UPDATED_NLP_COURSE\\\\TextFiles\\\\owlcreek.txt', encoding='utf8') as f:\n",
    "    doc = nlp(f.read())"
   ],
   "metadata": {
    "collapsed": false,
    "pycharm": {
     "name": "#%%\n",
     "is_executing": false
    }
   }
  },
  {
   "cell_type": "code",
   "execution_count": 6,
   "outputs": [
    {
     "data": {
      "text/plain": "AN OCCURRENCE AT OWL CREEK BRIDGE\n\nby Ambrose Bierce\n\nI\n\nA man stood upon a railroad bridge in northern Alabama, looking down\ninto the swift water twenty feet below.  "
     },
     "metadata": {},
     "output_type": "execute_result",
     "execution_count": 6
    }
   ],
   "source": [
    "doc[:36]"
   ],
   "metadata": {
    "collapsed": false,
    "pycharm": {
     "name": "#%%\n",
     "is_executing": false
    }
   }
  },
  {
   "cell_type": "code",
   "execution_count": 7,
   "outputs": [
    {
     "data": {
      "text/plain": "4833"
     },
     "metadata": {},
     "output_type": "execute_result",
     "execution_count": 7
    }
   ],
   "source": [
    "len(doc)"
   ],
   "metadata": {
    "collapsed": false,
    "pycharm": {
     "name": "#%%\n",
     "is_executing": false
    }
   }
  },
  {
   "cell_type": "code",
   "execution_count": 9,
   "outputs": [
    {
     "data": {
      "text/plain": "222"
     },
     "metadata": {},
     "output_type": "execute_result",
     "execution_count": 9
    }
   ],
   "source": [
    "sents = [sent for sent in doc.sents]\n",
    "len(sents)"
   ],
   "metadata": {
    "collapsed": false,
    "pycharm": {
     "name": "#%%\n",
     "is_executing": false
    }
   }
  },
  {
   "cell_type": "code",
   "execution_count": 12,
   "outputs": [
    {
     "name": "stdout",
     "text": [
      "A man stood upon a railroad bridge in northern Alabama, looking down\ninto the swift water twenty feet below.  ",
      "\n"
     ],
     "output_type": "stream"
    }
   ],
   "source": [
    "print(sents[2].text)"
   ],
   "metadata": {
    "collapsed": false,
    "pycharm": {
     "name": "#%%\n",
     "is_executing": false
    }
   }
  },
  {
   "cell_type": "code",
   "execution_count": 13,
   "outputs": [
    {
     "name": "stdout",
     "text": [
      "A",
      " ",
      "DET",
      " ",
      "det",
      " ",
      "a",
      "\n",
      "man",
      " ",
      "NOUN",
      " ",
      "nsubj",
      " ",
      "man",
      "\n",
      "stood",
      " ",
      "VERB",
      " ",
      "ROOT",
      " ",
      "stand",
      "\n",
      "upon",
      " ",
      "ADP",
      " ",
      "prep",
      " ",
      "upon",
      "\n",
      "a",
      " ",
      "DET",
      " ",
      "det",
      " ",
      "a",
      "\n",
      "railroad",
      " ",
      "NOUN",
      " ",
      "compound",
      " ",
      "railroad",
      "\n",
      "bridge",
      " ",
      "NOUN",
      " ",
      "pobj",
      " ",
      "bridge",
      "\n",
      "in",
      " ",
      "ADP",
      " ",
      "prep",
      " ",
      "in",
      "\n",
      "northern",
      " ",
      "ADJ",
      " ",
      "amod",
      " ",
      "northern",
      "\n",
      "Alabama",
      " ",
      "PROPN",
      " ",
      "pobj",
      " ",
      "Alabama",
      "\n",
      ",",
      " ",
      "PUNCT",
      " ",
      "punct",
      " ",
      ",",
      "\n",
      "looking",
      " ",
      "VERB",
      " ",
      "advcl",
      " ",
      "look",
      "\n",
      "down",
      " ",
      "ADV",
      " ",
      "advmod",
      " ",
      "down",
      "\n",
      "\n",
      " ",
      "SPACE",
      " ",
      " ",
      "\n",
      "\n",
      "into",
      " ",
      "ADP",
      " ",
      "prep",
      " ",
      "into",
      "\n",
      "the",
      " ",
      "DET",
      " ",
      "det",
      " ",
      "the",
      "\n",
      "swift",
      " ",
      "ADJ",
      " ",
      "amod",
      " ",
      "swift",
      "\n",
      "water",
      " ",
      "NOUN",
      " ",
      "pobj",
      " ",
      "water",
      "\n",
      "twenty",
      " ",
      "NUM",
      " ",
      "nummod",
      " ",
      "twenty",
      "\n",
      "feet",
      " ",
      "NOUN",
      " ",
      "npadvmod",
      " ",
      "foot",
      "\n",
      "below",
      " ",
      "ADV",
      " ",
      "advmod",
      " ",
      "below",
      "\n",
      ".",
      " ",
      "PUNCT",
      " ",
      "punct",
      " ",
      ".",
      "\n",
      " ",
      " ",
      "SPACE",
      " ",
      " ",
      " ",
      "\n"
     ],
     "output_type": "stream"
    }
   ],
   "source": [
    "for token in sents[2]:\n",
    "    print(token.text, token.pos_, token.dep_, token.lemma_)"
   ],
   "metadata": {
    "collapsed": false,
    "pycharm": {
     "name": "#%%\n",
     "is_executing": false
    }
   }
  },
  {
   "cell_type": "code",
   "execution_count": 15,
   "outputs": [
    {
     "name": "stdout",
     "text": [
      "A               DET   det        a              ",
      "\n",
      "man             NOUN  nsubj      man            ",
      "\n",
      "stood           VERB  ROOT       stand          ",
      "\n",
      "upon            ADP   prep       upon           ",
      "\n",
      "a               DET   det        a              ",
      "\n",
      "railroad        NOUN  compound   railroad       ",
      "\n",
      "bridge          NOUN  pobj       bridge         ",
      "\n",
      "in              ADP   prep       in             ",
      "\n",
      "northern        ADJ   amod       northern       ",
      "\n",
      "Alabama         PROPN pobj       Alabama        ",
      "\n",
      ",               PUNCT punct      ,              ",
      "\n",
      "looking         VERB  advcl      look           ",
      "\n",
      "down            ADV   advmod     down           ",
      "\n",
      "\n               SPACE            \n              ",
      "\n",
      "into            ADP   prep       into           ",
      "\n",
      "the             DET   det        the            ",
      "\n",
      "swift           ADJ   amod       swift          ",
      "\n",
      "water           NOUN  pobj       water          ",
      "\n",
      "twenty          NUM   nummod     twenty         ",
      "\n",
      "feet            NOUN  npadvmod   foot           ",
      "\n",
      "below           ADV   advmod     below          ",
      "\n",
      ".               PUNCT punct      .              ",
      "\n",
      "                SPACE                           ",
      "\n"
     ],
     "output_type": "stream"
    }
   ],
   "source": [
    "for token in sents[2]:\n",
    "    print(f'{token.text:{15}} {token.pos_:{5}} {token.dep_:{10}} {token.lemma_:{15}}')"
   ],
   "metadata": {
    "collapsed": false,
    "pycharm": {
     "name": "#%%\n",
     "is_executing": false
    }
   }
  },
  {
   "cell_type": "code",
   "execution_count": 16,
   "outputs": [],
   "source": [
    "from spacy.matcher import Matcher\n",
    "matcher = Matcher(nlp.vocab)"
   ],
   "metadata": {
    "collapsed": false,
    "pycharm": {
     "name": "#%%\n",
     "is_executing": false
    }
   }
  },
  {
   "cell_type": "code",
   "execution_count": 17,
   "outputs": [],
   "source": [
    "pattern = [{'LOWER': 'swimming'}, {'IS_SPACE': True, 'OP':'*'}, {'LOWER': 'vigorously'}]\n",
    "matcher.add('Swimming', None, pattern)"
   ],
   "metadata": {
    "collapsed": false,
    "pycharm": {
     "name": "#%%\n",
     "is_executing": false
    }
   }
  },
  {
   "cell_type": "code",
   "execution_count": 18,
   "outputs": [
    {
     "name": "stdout",
     "text": [
      "[(12881893835109366681, 1274, 1277), (12881893835109366681, 3607, 3610)]",
      "\n"
     ],
     "output_type": "stream"
    }
   ],
   "source": [
    "found_matches = matcher(doc)\n",
    "print(found_matches)"
   ],
   "metadata": {
    "collapsed": false,
    "pycharm": {
     "name": "#%%\n",
     "is_executing": false
    }
   }
  },
  {
   "cell_type": "code",
   "execution_count": 19,
   "outputs": [
    {
     "name": "stdout",
     "text": [
      "By diving I could evade the bullets and, swimming\nvigorously, reach the bank, take to the woods and get away home.  ",
      "\n"
     ],
     "output_type": "stream"
    }
   ],
   "source": [
    "for sent in sents:\n",
    "    if found_matches[0][1] < sent.end:\n",
    "        print(sent)\n",
    "        break"
   ],
   "metadata": {
    "collapsed": false,
    "pycharm": {
     "name": "#%%\n",
     "is_executing": false
    }
   }
  },
  {
   "cell_type": "code",
   "execution_count": null,
   "outputs": [],
   "source": [
    "\n"
   ],
   "metadata": {
    "collapsed": false,
    "pycharm": {
     "name": "#%%\n"
    }
   }
  }
 ],
 "metadata": {
  "language_info": {
   "codemirror_mode": {
    "name": "ipython",
    "version": 2
   },
   "file_extension": ".py",
   "mimetype": "text/x-python",
   "name": "python",
   "nbconvert_exporter": "python",
   "pygments_lexer": "ipython2",
   "version": "2.7.6"
  },
  "kernelspec": {
   "name": "python3",
   "language": "python",
   "display_name": "Python 3"
  },
  "pycharm": {
   "stem_cell": {
    "cell_type": "raw",
    "source": [],
    "metadata": {
     "collapsed": false
    }
   }
  }
 },
 "nbformat": 4,
 "nbformat_minor": 0
}