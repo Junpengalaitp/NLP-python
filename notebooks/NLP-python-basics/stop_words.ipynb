{
 "cells": [
  {
   "cell_type": "code",
   "execution_count": 1,
   "metadata": {
    "collapsed": true,
    "pycharm": {
     "is_executing": false
    }
   },
   "outputs": [],
   "source": [
    "import spacy\n",
    "nlp = spacy.load('en_core_web_sm')"
   ]
  },
  {
   "cell_type": "code",
   "execution_count": 2,
   "outputs": [
    {
     "name": "stdout",
     "text": [
      "{'part', 'three', 'move', 'i', 'onto', 'few', 'too', 'every', 'latterly', 'therefore', 'fifteen', 'what', 'have', 'this', 'former', 'whither', 'became', 'enough', 'as', 'toward', 'itself', 'has', 'whence', 'besides', 'very', 'along', 'but', 'by', 'at', 'just', 'also', 'under', 'did', 'see', 'any', 'four', 'these', 'there', 'once', 'ca', '’ll', 'front', 'an', 'however', 'anyway', 'between', 'myself', 'together', 'with', 'wherever', 'somewhere', '‘ll', 'whereby', 'hereby', 'perhaps', 'bottom', 'was', 'now', 'whole', '‘d', 'where', 'around', 'each', 'our', 'than', 'sixty', 'yourself', 'hereafter', 'someone', '’d', 'all', 'can', 'on', 'who', 'my', 'out', 'something', 'becoming', 'n’t', 'some', 'say', 'herself', 'only', 'indeed', 'often', 'alone', 'five', 'those', 'either', 'show', 'whenever', 'still', 'please', 'they', '‘ve', 'or', 'are', 'much', 'a', 'yours', 'top', 'across', 'hence', 'ours', 'such', 'whether', 'while', 'even', 'whereupon', 'of', 'anyhow', 'against', 'and', 'moreover', 'seeming', 'amount', 'would', 'into', 'sometime', 'eight', 'nevertheless', 'we', 'sometimes', 'rather', 'nor', 'seems', '’m', 'empty', 'do', 'forty', 'done', 'six', 'for', 'everyone', 'himself', 'regarding', 'through', 'none', 'whatever', '‘re', 'herein', 'everywhere', 'two', 'amongst', 'latter', 'although', 'already', \"'ll\", 'doing', 'everything', 'via', 'used', 'made', 'among', 'beyond', 'you', 'then', 'been', 'back', 'how', 'put', 'nobody', 'per', 'not', 'namely', 'from', 'more', 'yourselves', 'therein', 'nowhere', 'make', 'whoever', 'could', 'us', 'elsewhere', 'full', 'that', 'were', 'throughout', 'beforehand', 'why', 'twelve', 'off', 'me', 'their', 'serious', 'upon', 'except', 'seemed', 'before', 'its', 'whom', 'during', 'does', 'him', 'others', 'eleven', 'one', 'over', 'to', 'ever', 'twenty', 'call', 'name', 'go', 'third', 'keep', 'here', 'almost', 'quite', 'side', 'most', \"'s\", 'never', 'else', 'her', 'several', 'his', 'hereupon', 'yet', \"'ve\", 'various', 'no', 'within', '’ve', 'thereafter', 'behind', 'becomes', 'always', 'she', 'meanwhile', 'least', 'thus', 'your', 'somehow', '’s', 'otherwise', 'up', 'the', 'another', 'hers', 'them', 'whereas', 'whose', 'n‘t', 'next', 'whereafter', 'thereby', 'down', 'become', 'both', 'further', '’re', 'had', 'in', 'cannot', 'afterwards', 'formerly', 'thru', 'same', 'might', 'mostly', 'unless', 'below', 'must', 'if', 'after', 'being', 'first', 'thereupon', '‘s', 'anything', 'noone', 'it', '‘m', 'because', 'will', 'beside', 'which', 'though', 'nine', 'above', 'really', 'own', 'last', 'without', 'may', 'many', 'when', 'mine', 'take', 'less', 'am', 're', \"'re\", 'again', \"'m\", \"'d\", 'thence', 'other', \"n't\", 'due', 'towards', 'until', 'so', 'neither', 'give', 'nothing', 'since', 'anyone', 'anywhere', 'should', 'themselves', 'fifty', 'get', 'ten', 'ourselves', 'seem', 'is', 'well', 'hundred', 'using', 'he', 'be', 'wherein', 'about'}",
      "\n"
     ],
     "output_type": "stream"
    }
   ],
   "source": [
    "print(nlp.Defaults.stop_words)"
   ],
   "metadata": {
    "collapsed": false,
    "pycharm": {
     "name": "#%%\n",
     "is_executing": false
    }
   }
  },
  {
   "cell_type": "code",
   "execution_count": 3,
   "outputs": [
    {
     "data": {
      "text/plain": "326"
     },
     "metadata": {},
     "output_type": "execute_result",
     "execution_count": 3
    }
   ],
   "source": [
    "len(nlp.Defaults.stop_words)"
   ],
   "metadata": {
    "collapsed": false,
    "pycharm": {
     "name": "#%%\n",
     "is_executing": false
    }
   }
  },
  {
   "cell_type": "code",
   "execution_count": 4,
   "outputs": [
    {
     "data": {
      "text/plain": "True"
     },
     "metadata": {},
     "output_type": "execute_result",
     "execution_count": 4
    }
   ],
   "source": [
    "nlp.vocab['myself'].is_stop"
   ],
   "metadata": {
    "collapsed": false,
    "pycharm": {
     "name": "#%%\n",
     "is_executing": false
    }
   }
  },
  {
   "cell_type": "code",
   "execution_count": 5,
   "outputs": [
    {
     "data": {
      "text/plain": "False"
     },
     "metadata": {},
     "output_type": "execute_result",
     "execution_count": 5
    }
   ],
   "source": [
    "nlp.vocab['mystery'].is_stop\n"
   ],
   "metadata": {
    "collapsed": false,
    "pycharm": {
     "name": "#%%\n",
     "is_executing": false
    }
   }
  },
  {
   "cell_type": "code",
   "execution_count": 6,
   "outputs": [],
   "source": [
    "nlp.Defaults.stop_words.add('btw')\n",
    "\n",
    "# Set the stop_word tag on the lexeme\n",
    "nlp.vocab['btw'].is_stop = True"
   ],
   "metadata": {
    "collapsed": false,
    "pycharm": {
     "name": "#%%\n",
     "is_executing": false
    }
   }
  },
  {
   "cell_type": "code",
   "execution_count": 7,
   "outputs": [
    {
     "data": {
      "text/plain": "327"
     },
     "metadata": {},
     "output_type": "execute_result",
     "execution_count": 7
    }
   ],
   "source": [
    "len(nlp.Defaults.stop_words)"
   ],
   "metadata": {
    "collapsed": false,
    "pycharm": {
     "name": "#%%\n",
     "is_executing": false
    }
   }
  },
  {
   "cell_type": "code",
   "execution_count": 8,
   "outputs": [
    {
     "data": {
      "text/plain": "True"
     },
     "metadata": {},
     "output_type": "execute_result",
     "execution_count": 8
    }
   ],
   "source": [
    "nlp.vocab['btw'].is_stop"
   ],
   "metadata": {
    "collapsed": false,
    "pycharm": {
     "name": "#%%\n",
     "is_executing": false
    }
   }
  },
  {
   "cell_type": "code",
   "execution_count": 10,
   "outputs": [
    {
     "data": {
      "text/plain": "False"
     },
     "metadata": {},
     "output_type": "execute_result",
     "execution_count": 10
    }
   ],
   "source": [
    "nlp.vocab['mystery'].is_stop"
   ],
   "metadata": {
    "collapsed": false,
    "pycharm": {
     "name": "#%%\n",
     "is_executing": false
    }
   }
  },
  {
   "cell_type": "code",
   "execution_count": null,
   "outputs": [],
   "source": [
    "\n"
   ],
   "metadata": {
    "collapsed": false,
    "pycharm": {
     "name": "#%%\n"
    }
   }
  }
 ],
 "metadata": {
  "language_info": {
   "codemirror_mode": {
    "name": "ipython",
    "version": 2
   },
   "file_extension": ".py",
   "mimetype": "text/x-python",
   "name": "python",
   "nbconvert_exporter": "python",
   "pygments_lexer": "ipython2",
   "version": "2.7.6"
  },
  "kernelspec": {
   "name": "python3",
   "language": "python",
   "display_name": "Python 3"
  },
  "pycharm": {
   "stem_cell": {
    "cell_type": "raw",
    "source": [],
    "metadata": {
     "collapsed": false
    }
   }
  }
 },
 "nbformat": 4,
 "nbformat_minor": 0
}