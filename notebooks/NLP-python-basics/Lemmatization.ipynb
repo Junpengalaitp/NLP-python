{
 "cells": [
  {
   "cell_type": "code",
   "execution_count": 1,
   "metadata": {
    "collapsed": true,
    "pycharm": {
     "is_executing": false
    }
   },
   "outputs": [],
   "source": [
    "import spacy\n",
    "nlp = spacy.load('en_core_web_sm')"
   ]
  },
  {
   "cell_type": "code",
   "execution_count": 2,
   "outputs": [],
   "source": [
    "doc1 = nlp(u'I am a runner running in a race because I love to run since I ran today')"
   ],
   "metadata": {
    "collapsed": false,
    "pycharm": {
     "name": "#%%\n",
     "is_executing": false
    }
   }
  },
  {
   "cell_type": "code",
   "execution_count": 3,
   "outputs": [
    {
     "name": "stdout",
     "text": [
      "I",
      " ",
      "\t",
      " ",
      "PRON",
      " ",
      "\t",
      " ",
      "561228191312463089",
      " ",
      "/t",
      " ",
      "-PRON-",
      "\n",
      "am",
      " ",
      "\t",
      " ",
      "VERB",
      " ",
      "\t",
      " ",
      "10382539506755952630",
      " ",
      "/t",
      " ",
      "be",
      "\n",
      "a",
      " ",
      "\t",
      " ",
      "DET",
      " ",
      "\t",
      " ",
      "11901859001352538922",
      " ",
      "/t",
      " ",
      "a",
      "\n",
      "runner",
      " ",
      "\t",
      " ",
      "NOUN",
      " ",
      "\t",
      " ",
      "12640964157389618806",
      " ",
      "/t",
      " ",
      "runner",
      "\n",
      "running",
      " ",
      "\t",
      " ",
      "VERB",
      " ",
      "\t",
      " ",
      "12767647472892411841",
      " ",
      "/t",
      " ",
      "run",
      "\n",
      "in",
      " ",
      "\t",
      " ",
      "ADP",
      " ",
      "\t",
      " ",
      "3002984154512732771",
      " ",
      "/t",
      " ",
      "in",
      "\n",
      "a",
      " ",
      "\t",
      " ",
      "DET",
      " ",
      "\t",
      " ",
      "11901859001352538922",
      " ",
      "/t",
      " ",
      "a",
      "\n",
      "race",
      " ",
      "\t",
      " ",
      "NOUN",
      " ",
      "\t",
      " ",
      "8048469955494714898",
      " ",
      "/t",
      " ",
      "race",
      "\n",
      "because",
      " ",
      "\t",
      " ",
      "ADP",
      " ",
      "\t",
      " ",
      "16950148841647037698",
      " ",
      "/t",
      " ",
      "because",
      "\n",
      "I",
      " ",
      "\t",
      " ",
      "PRON",
      " ",
      "\t",
      " ",
      "561228191312463089",
      " ",
      "/t",
      " ",
      "-PRON-",
      "\n",
      "love",
      " ",
      "\t",
      " ",
      "VERB",
      " ",
      "\t",
      " ",
      "3702023516439754181",
      " ",
      "/t",
      " ",
      "love",
      "\n",
      "to",
      " ",
      "\t",
      " ",
      "PART",
      " ",
      "\t",
      " ",
      "3791531372978436496",
      " ",
      "/t",
      " ",
      "to",
      "\n",
      "run",
      " ",
      "\t",
      " ",
      "VERB",
      " ",
      "\t",
      " ",
      "12767647472892411841",
      " ",
      "/t",
      " ",
      "run",
      "\n",
      "since",
      " ",
      "\t",
      " ",
      "ADP",
      " ",
      "\t",
      " ",
      "10066841407251338481",
      " ",
      "/t",
      " ",
      "since",
      "\n",
      "I",
      " ",
      "\t",
      " ",
      "PRON",
      " ",
      "\t",
      " ",
      "561228191312463089",
      " ",
      "/t",
      " ",
      "-PRON-",
      "\n",
      "ran",
      " ",
      "\t",
      " ",
      "VERB",
      " ",
      "\t",
      " ",
      "12767647472892411841",
      " ",
      "/t",
      " ",
      "run",
      "\n",
      "today",
      " ",
      "\t",
      " ",
      "NOUN",
      " ",
      "\t",
      " ",
      "11042482332948150395",
      " ",
      "/t",
      " ",
      "today",
      "\n"
     ],
     "output_type": "stream"
    }
   ],
   "source": [
    "for token in doc1:\n",
    "    print(token.text, '\\t', token.pos_, '\\t', token.lemma, '/t', token.lemma_)"
   ],
   "metadata": {
    "collapsed": false,
    "pycharm": {
     "name": "#%%\n",
     "is_executing": false
    }
   }
  },
  {
   "cell_type": "code",
   "execution_count": 6,
   "outputs": [],
   "source": [
    "def show_lemmas(text):\n",
    "    for token in text:\n",
    "        print(f'{token.text:{12}} {token.pos_:{6}} {token.lemma:<{22}} {token.lemma_}')"
   ],
   "metadata": {
    "collapsed": false,
    "pycharm": {
     "name": "#%%\n",
     "is_executing": false
    }
   }
  },
  {
   "cell_type": "code",
   "execution_count": 7,
   "outputs": [
    {
     "name": "stdout",
     "text": [
      "I            PRON   561228191312463089     -PRON-",
      "\n",
      "saw          VERB   11925638236994514241   see",
      "\n",
      "eighteen     NUM    9609336664675087640    eighteen",
      "\n",
      "mice         NOUN   1384165645700560590    mouse",
      "\n",
      "today        NOUN   11042482332948150395   today",
      "\n",
      "!            PUNCT  17494803046312582752   !",
      "\n"
     ],
     "output_type": "stream"
    }
   ],
   "source": [
    "doc2 = nlp(u\"I saw eighteen mice today!\")\n",
    "\n",
    "show_lemmas(doc2)"
   ],
   "metadata": {
    "collapsed": false,
    "pycharm": {
     "name": "#%%\n",
     "is_executing": false
    }
   }
  },
  {
   "cell_type": "code",
   "execution_count": 8,
   "outputs": [
    {
     "name": "stdout",
     "text": [
      "I            PRON   561228191312463089     -PRON-",
      "\n",
      "am           VERB   10382539506755952630   be",
      "\n",
      "meeting      VERB   6880656908171229526    meet",
      "\n",
      "him          PRON   561228191312463089     -PRON-",
      "\n",
      "tomorrow     NOUN   3573583789758258062    tomorrow",
      "\n",
      "at           ADP    11667289587015813222   at",
      "\n",
      "the          DET    7425985699627899538    the",
      "\n",
      "meeting      NOUN   14798207169164081740   meeting",
      "\n",
      ".            PUNCT  12646065887601541794   .",
      "\n"
     ],
     "output_type": "stream"
    }
   ],
   "source": [
    "doc3 = nlp(u\"I am meeting him tomorrow at the meeting.\")\n",
    "\n",
    "show_lemmas(doc3)"
   ],
   "metadata": {
    "collapsed": false,
    "pycharm": {
     "name": "#%%\n",
     "is_executing": false
    }
   }
  },
  {
   "cell_type": "code",
   "execution_count": 9,
   "outputs": [
    {
     "name": "stdout",
     "text": [
      "That         DET    4380130941430378203    that",
      "\n",
      "'s           VERB   10382539506755952630   be",
      "\n",
      "an           DET    15099054000809333061   an",
      "\n",
      "enormous     ADJ    17917224542039855524   enormous",
      "\n",
      "automobile   NOUN   7211811266693931283    automobile",
      "\n"
     ],
     "output_type": "stream"
    }
   ],
   "source": [
    "doc4 = nlp(u\"That's an enormous automobile\")\n",
    "\n",
    "show_lemmas(doc4)"
   ],
   "metadata": {
    "collapsed": false,
    "pycharm": {
     "name": "#%%\n",
     "is_executing": false
    }
   }
  },
  {
   "cell_type": "code",
   "execution_count": null,
   "outputs": [],
   "source": [
    "\n"
   ],
   "metadata": {
    "collapsed": false,
    "pycharm": {
     "name": "#%%\n"
    }
   }
  }
 ],
 "metadata": {
  "language_info": {
   "codemirror_mode": {
    "name": "ipython",
    "version": 2
   },
   "file_extension": ".py",
   "mimetype": "text/x-python",
   "name": "python",
   "nbconvert_exporter": "python",
   "pygments_lexer": "ipython2",
   "version": "2.7.6"
  },
  "kernelspec": {
   "name": "python3",
   "language": "python",
   "display_name": "Python 3"
  },
  "pycharm": {
   "stem_cell": {
    "cell_type": "raw",
    "source": [],
    "metadata": {
     "collapsed": false
    }
   }
  }
 },
 "nbformat": 4,
 "nbformat_minor": 0
}