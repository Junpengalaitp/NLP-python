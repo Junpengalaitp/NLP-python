{
 "cells": [
  {
   "cell_type": "code",
   "execution_count": 1,
   "metadata": {
    "collapsed": true,
    "pycharm": {
     "is_executing": false
    }
   },
   "outputs": [],
   "source": [
    "import spacy\n",
    "nlp = spacy.load('en_core_web_sm')\n"
   ]
  },
  {
   "cell_type": "code",
   "execution_count": 2,
   "outputs": [],
   "source": [
    "doc = nlp(u\"The quick brown fox jumped over the lazy dog's back.\")"
   ],
   "metadata": {
    "collapsed": false,
    "pycharm": {
     "name": "#%%\n",
     "is_executing": false
    }
   }
  },
  {
   "cell_type": "code",
   "execution_count": 3,
   "outputs": [
    {
     "name": "stdout",
     "text": [
      "The quick brown fox jumped over the lazy dog's back.",
      "\n"
     ],
     "output_type": "stream"
    }
   ],
   "source": [
    "print(doc.text)"
   ],
   "metadata": {
    "collapsed": false,
    "pycharm": {
     "name": "#%%\n",
     "is_executing": false
    }
   }
  },
  {
   "cell_type": "code",
   "execution_count": 4,
   "outputs": [
    {
     "name": "stdout",
     "text": [
      "jumped",
      " ",
      "VERB",
      " ",
      "VBD",
      " ",
      "verb, past tense",
      "\n"
     ],
     "output_type": "stream"
    }
   ],
   "source": [
    "print(doc[4].text, doc[4].pos_, doc[4].tag_, spacy.explain(doc[4].tag_))"
   ],
   "metadata": {
    "collapsed": false,
    "pycharm": {
     "name": "#%%\n",
     "is_executing": false
    }
   }
  },
  {
   "cell_type": "code",
   "execution_count": 5,
   "outputs": [
    {
     "name": "stdout",
     "text": [
      "The        DET      DT     determiner",
      "\n",
      "quick      ADJ      JJ     adjective",
      "\n",
      "brown      ADJ      JJ     adjective",
      "\n",
      "fox        NOUN     NN     noun, singular or mass",
      "\n",
      "jumped     VERB     VBD    verb, past tense",
      "\n",
      "over       ADP      IN     conjunction, subordinating or preposition",
      "\n",
      "the        DET      DT     determiner",
      "\n",
      "lazy       ADJ      JJ     adjective",
      "\n",
      "dog        NOUN     NN     noun, singular or mass",
      "\n",
      "'s         PART     POS    possessive ending",
      "\n",
      "back       NOUN     NN     noun, singular or mass",
      "\n",
      ".          PUNCT    .      punctuation mark, sentence closer",
      "\n"
     ],
     "output_type": "stream"
    }
   ],
   "source": [
    "for token in doc:\n",
    "    print(f'{token.text:{10}} {token.pos_:{8}} {token.tag_:{6}} {spacy.explain(token.tag_)}')\n"
   ],
   "metadata": {
    "collapsed": false,
    "pycharm": {
     "name": "#%%\n",
     "is_executing": false
    }
   }
  },
  {
   "cell_type": "code",
   "execution_count": 6,
   "outputs": [
    {
     "name": "stdout",
     "text": [
      "read       VERB     VBP    verb, non-3rd person singular present",
      "\n"
     ],
     "output_type": "stream"
    }
   ],
   "source": [
    "doc = nlp(u'I read books on NLP.')\n",
    "r = doc[1]\n",
    "\n",
    "print(f'{r.text:{10}} {r.pos_:{8}} {r.tag_:{6}} {spacy.explain(r.tag_)}')\n"
   ],
   "metadata": {
    "collapsed": false,
    "pycharm": {
     "name": "#%%\n",
     "is_executing": false
    }
   }
  },
  {
   "cell_type": "code",
   "execution_count": 7,
   "outputs": [
    {
     "name": "stdout",
     "text": [
      "read       VERB     VBP    verb, non-3rd person singular present",
      "\n"
     ],
     "output_type": "stream"
    }
   ],
   "source": [
    "doc = nlp(u'I read a book on NLP.')\n",
    "r = doc[1]\n",
    "\n",
    "print(f'{r.text:{10}} {r.pos_:{8}} {r.tag_:{6}} {spacy.explain(r.tag_)}')"
   ],
   "metadata": {
    "collapsed": false,
    "pycharm": {
     "name": "#%%\n",
     "is_executing": false
    }
   }
  },
  {
   "cell_type": "code",
   "execution_count": 8,
   "outputs": [
    {
     "name": "stdout",
     "text": [
      "I          PRON     PRP    pronoun, personal",
      "\n",
      "read       VERB     VBP    verb, non-3rd person singular present",
      "\n",
      "a          DET      DT     determiner",
      "\n",
      "book       NOUN     NN     noun, singular or mass",
      "\n",
      "on         ADP      IN     conjunction, subordinating or preposition",
      "\n",
      "NLP        PROPN    NNP    noun, proper singular",
      "\n",
      ".          PUNCT    .      punctuation mark, sentence closer",
      "\n"
     ],
     "output_type": "stream"
    }
   ],
   "source": [
    "for token in doc:\n",
    "    print(f'{token.text:{10}} {token.pos_:{8}} {token.tag_:{6}} {spacy.explain(token.tag_)}')\n"
   ],
   "metadata": {
    "collapsed": false,
    "pycharm": {
     "name": "#%%\n",
     "is_executing": false
    }
   }
  },
  {
   "cell_type": "code",
   "execution_count": 11,
   "outputs": [
    {
     "data": {
      "text/plain": "{90: 2, 84: 3, 92: 3, 100: 1, 85: 1, 94: 1, 97: 1}"
     },
     "metadata": {},
     "output_type": "execute_result",
     "execution_count": 11
    }
   ],
   "source": [
    "doc = nlp(u\"The quick brown fox jumped over the lazy dog's back.\")\n",
    "\n",
    "# Count the frequencies of different coarse-grained POS tags:\n",
    "POS_counts = doc.count_by(spacy.attrs.POS)\n",
    "POS_counts"
   ],
   "metadata": {
    "collapsed": false,
    "pycharm": {
     "name": "#%%\n",
     "is_executing": false
    }
   }
  },
  {
   "cell_type": "code",
   "execution_count": 12,
   "outputs": [
    {
     "data": {
      "text/plain": "'LANG'"
     },
     "metadata": {},
     "output_type": "execute_result",
     "execution_count": 12
    }
   ],
   "source": [
    "doc.vocab[83].text"
   ],
   "metadata": {
    "collapsed": false,
    "pycharm": {
     "name": "#%%\n",
     "is_executing": false
    }
   }
  },
  {
   "cell_type": "code",
   "execution_count": 13,
   "outputs": [
    {
     "name": "stdout",
     "text": [
      "84. ADJ  : 3",
      "\n",
      "85. ADP  : 1",
      "\n",
      "90. DET  : 2",
      "\n",
      "92. NOUN : 3",
      "\n",
      "94. PART : 1",
      "\n",
      "97. PUNCT: 1",
      "\n",
      "100. VERB : 1",
      "\n"
     ],
     "output_type": "stream"
    }
   ],
   "source": [
    "for k,v in sorted(POS_counts.items()):\n",
    "    print(f'{k}. {doc.vocab[k].text:{5}}: {v}')"
   ],
   "metadata": {
    "collapsed": false,
    "pycharm": {
     "name": "#%%\n",
     "is_executing": false
    }
   }
  },
  {
   "cell_type": "code",
   "execution_count": 14,
   "outputs": [
    {
     "name": "stdout",
     "text": [
      "74. POS : 1",
      "\n",
      "1292078113972184607. IN  : 1",
      "\n",
      "10554686591937588953. JJ  : 3",
      "\n",
      "12646065887601541794. .   : 1",
      "\n",
      "15267657372422890137. DT  : 2",
      "\n",
      "15308085513773655218. NN  : 3",
      "\n",
      "17109001835818727656. VBD : 1",
      "\n"
     ],
     "output_type": "stream"
    }
   ],
   "source": [
    "# Count the different fine-grained tags:\n",
    "TAG_counts = doc.count_by(spacy.attrs.TAG)\n",
    "\n",
    "for k,v in sorted(TAG_counts.items()):\n",
    "    print(f'{k}. {doc.vocab[k].text:{4}}: {v}')"
   ],
   "metadata": {
    "collapsed": false,
    "pycharm": {
     "name": "#%%\n",
     "is_executing": false
    }
   }
  },
  {
   "cell_type": "code",
   "execution_count": 15,
   "outputs": [
    {
     "name": "stdout",
     "text": [
      "402. amod: 3",
      "\n",
      "415. det : 2",
      "\n",
      "429. nsubj: 1",
      "\n",
      "439. pobj: 1",
      "\n",
      "440. poss: 1",
      "\n",
      "443. prep: 1",
      "\n",
      "445. punct: 1",
      "\n",
      "8110129090154140942. case: 1",
      "\n",
      "8206900633647566924. ROOT: 1",
      "\n"
     ],
     "output_type": "stream"
    }
   ],
   "source": [
    "# Count the different dependencies:\n",
    "DEP_counts = doc.count_by(spacy.attrs.DEP)\n",
    "\n",
    "for k,v in sorted(DEP_counts.items()):\n",
    "    print(f'{k}. {doc.vocab[k].text:{4}}: {v}')"
   ],
   "metadata": {
    "collapsed": false,
    "pycharm": {
     "name": "#%%\n",
     "is_executing": false
    }
   }
  },
  {
   "cell_type": "code",
   "execution_count": null,
   "outputs": [],
   "source": [
    "\n"
   ],
   "metadata": {
    "collapsed": false,
    "pycharm": {
     "name": "#%%\n"
    }
   }
  }
 ],
 "metadata": {
  "language_info": {
   "codemirror_mode": {
    "name": "ipython",
    "version": 2
   },
   "file_extension": ".py",
   "mimetype": "text/x-python",
   "name": "python",
   "nbconvert_exporter": "python",
   "pygments_lexer": "ipython2",
   "version": "2.7.6"
  },
  "kernelspec": {
   "name": "python3",
   "language": "python",
   "display_name": "Python 3"
  },
  "pycharm": {
   "stem_cell": {
    "cell_type": "raw",
    "source": [],
    "metadata": {
     "collapsed": false
    }
   }
  }
 },
 "nbformat": 4,
 "nbformat_minor": 0
}