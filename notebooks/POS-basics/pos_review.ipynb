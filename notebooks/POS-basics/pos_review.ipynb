{
 "cells": [
  {
   "cell_type": "code",
   "execution_count": 1,
   "metadata": {
    "collapsed": true,
    "pycharm": {
     "is_executing": false
    }
   },
   "outputs": [],
   "source": [
    "import spacy\n",
    "nlp = spacy.load('en_core_web_sm')\n",
    "from spacy import displacy"
   ]
  },
  {
   "cell_type": "code",
   "execution_count": 2,
   "outputs": [],
   "source": [
    "with open('C:\\\\Users\\\\pats\\\\Documents\\\\training\\\\UPDATED_NLP_COURSE\\\\TextFiles\\\\peterrabbit.txt', encoding='utf8') as f:\n",
    "    doc = nlp(f.read())"
   ],
   "metadata": {
    "collapsed": false,
    "pycharm": {
     "name": "#%%\n",
     "is_executing": false
    }
   }
  },
  {
   "cell_type": "code",
   "execution_count": 5,
   "outputs": [
    {
     "name": "stdout",
     "text": [
      "Flopsy     PROPN      NNP        noun, proper singular",
      "\n",
      ",          PUNCT      ,          punctuation mark, comma",
      "\n",
      "\n          SPACE      _SP        None      ",
      "\n",
      "Mopsy      PROPN      NNP        noun, proper singular",
      "\n",
      ",          PUNCT      ,          punctuation mark, comma",
      "\n",
      "\n          SPACE      _SP        None      ",
      "\n",
      "Cotton     PROPN      NNP        noun, proper singular",
      "\n",
      "-          PUNCT      HYPH       punctuation mark, hyphen",
      "\n",
      "tail       NOUN       NN         noun, singular or mass",
      "\n",
      ",          PUNCT      ,          punctuation mark, comma",
      "\n",
      "\n          SPACE      _SP        None      ",
      "\n",
      "and        CCONJ      CC         conjunction, coordinating",
      "\n",
      "Peter      PROPN      NNP        noun, proper singular",
      "\n",
      ".          PUNCT      .          punctuation mark, sentence closer",
      "\n",
      "\n\n         SPACE      _SP        None      ",
      "\n"
     ],
     "output_type": "stream"
    }
   ],
   "source": [
    "for token in list(doc.sents)[2]:\n",
    "    print(f\"{token.text:{10}} {token.pos_:{10}} {token.tag_:{10}} {str(spacy.explain(token.tag_)):{10}}\")"
   ],
   "metadata": {
    "collapsed": false,
    "pycharm": {
     "name": "#%%\n",
     "is_executing": false
    }
   }
  },
  {
   "cell_type": "code",
   "execution_count": 7,
   "outputs": [
    {
     "name": "stdout",
     "text": [
      "84 ADJ 57 counts",
      "\n",
      "85 ADP 129 counts",
      "\n",
      "86 ADV 75 counts",
      "\n",
      "89 CCONJ 61 counts",
      "\n",
      "90 DET 118 counts",
      "\n",
      "92 NOUN 166 counts",
      "\n",
      "93 NUM 8 counts",
      "\n",
      "94 PART 34 counts",
      "\n",
      "95 PRON 78 counts",
      "\n",
      "96 PROPN 75 counts",
      "\n",
      "97 PUNCT 173 counts",
      "\n",
      "100 VERB 185 counts",
      "\n",
      "103 SPACE 99 counts",
      "\n"
     ],
     "output_type": "stream"
    }
   ],
   "source": [
    "POS_counts = doc.count_by(spacy.attrs.POS)\n",
    "for k, v in sorted(POS_counts.items()):\n",
    "    print(f\"{k} {doc.vocab[k].text} {v} counts\")"
   ],
   "metadata": {
    "collapsed": false,
    "pycharm": {
     "name": "#%%\n",
     "is_executing": false
    }
   }
  },
  {
   "cell_type": "code",
   "execution_count": 8,
   "outputs": [
    {
     "data": {
      "text/plain": "1258"
     },
     "metadata": {},
     "output_type": "execute_result",
     "execution_count": 8
    }
   ],
   "source": [
    "len(doc)"
   ],
   "metadata": {
    "collapsed": false,
    "pycharm": {
     "name": "#%%\n",
     "is_executing": false
    }
   }
  },
  {
   "cell_type": "code",
   "execution_count": 10,
   "outputs": [
    {
     "data": {
      "text/plain": "13.195548489666137"
     },
     "metadata": {},
     "output_type": "execute_result",
     "execution_count": 10
    }
   ],
   "source": [
    "100*POS_counts[92]/len(doc)"
   ],
   "metadata": {
    "collapsed": false,
    "pycharm": {
     "name": "#%%\n",
     "is_executing": false
    }
   }
  },
  {
   "cell_type": "code",
   "execution_count": null,
   "outputs": [],
   "source": [
    "\n"
   ],
   "metadata": {
    "collapsed": false,
    "pycharm": {
     "name": "#%%\n"
    }
   }
  }
 ],
 "metadata": {
  "language_info": {
   "codemirror_mode": {
    "name": "ipython",
    "version": 2
   },
   "file_extension": ".py",
   "mimetype": "text/x-python",
   "name": "python",
   "nbconvert_exporter": "python",
   "pygments_lexer": "ipython2",
   "version": "2.7.6"
  },
  "kernelspec": {
   "name": "python3",
   "language": "python",
   "display_name": "Python 3"
  },
  "pycharm": {
   "stem_cell": {
    "cell_type": "raw",
    "source": [],
    "metadata": {
     "collapsed": false
    }
   }
  }
 },
 "nbformat": 4,
 "nbformat_minor": 0
}